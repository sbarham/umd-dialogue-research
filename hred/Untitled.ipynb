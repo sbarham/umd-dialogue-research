{
 "cells": [
  {
   "cell_type": "code",
   "execution_count": 1,
   "metadata": {},
   "outputs": [
    {
     "data": {
      "text/plain": [
       "range(0, 5)"
      ]
     },
     "execution_count": 1,
     "metadata": {},
     "output_type": "execute_result"
    }
   ],
   "source": [
    "range(5)"
   ]
  },
  {
   "cell_type": "code",
   "execution_count": 2,
   "metadata": {},
   "outputs": [
    {
     "name": "stdout",
     "output_type": "stream",
     "text": [
      "0\n",
      "1\n",
      "2\n",
      "3\n",
      "4\n"
     ]
    }
   ],
   "source": [
    "for i in range(5):\n",
    "    print(i)"
   ]
  },
  {
   "cell_type": "code",
   "execution_count": 26,
   "metadata": {},
   "outputs": [],
   "source": [
    "def test(dialogue):\n",
    "    adjacency_pairs = []\n",
    "    for i in range(len(dialogue)):\n",
    "        if i + 1 < len(dialogue):\n",
    "            adjacency_pairs += [[dialogue[i], dialogue[i + 1]]]\n",
    "    return adjacency_pairs\n",
    "\n",
    "def test2(dialogues):\n",
    "    adjacency_pairs = []\n",
    "            \n",
    "    for dialogue in dialogues:\n",
    "        # go through each dialogue and accumulate adjacency pairs\n",
    "        adjacency_pairs += test(dialogue)\n",
    "                \n",
    "    return adjacency_pairs"
   ]
  },
  {
   "cell_type": "code",
   "execution_count": 27,
   "metadata": {
    "collapsed": true
   },
   "outputs": [],
   "source": [
    "dialogues = [[\"d1 u1\", \"d1 u2\", \"d1 u3\"], [\"d2 u1\", \"d2 u2\", \"d2 u3\"]]"
   ]
  },
  {
   "cell_type": "code",
   "execution_count": 28,
   "metadata": {},
   "outputs": [
    {
     "data": {
      "text/plain": [
       "[['d1 u1', 'd1 u2'],\n",
       " ['d1 u2', 'd1 u3'],\n",
       " ['d2 u1', 'd2 u2'],\n",
       " ['d2 u2', 'd2 u3']]"
      ]
     },
     "execution_count": 28,
     "metadata": {},
     "output_type": "execute_result"
    }
   ],
   "source": [
    "test2(dialogues)"
   ]
  },
  {
   "cell_type": "code",
   "execution_count": null,
   "metadata": {
    "collapsed": true
   },
   "outputs": [],
   "source": []
  }
 ],
 "metadata": {
  "kernelspec": {
   "display_name": "Python 3",
   "language": "python",
   "name": "python3"
  },
  "language_info": {
   "codemirror_mode": {
    "name": "ipython",
    "version": 3
   },
   "file_extension": ".py",
   "mimetype": "text/x-python",
   "name": "python",
   "nbconvert_exporter": "python",
   "pygments_lexer": "ipython3",
   "version": "3.6.3"
  }
 },
 "nbformat": 4,
 "nbformat_minor": 2
}
