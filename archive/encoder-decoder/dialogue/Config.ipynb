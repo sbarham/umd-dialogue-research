{
 "cells": [
  {
   "cell_type": "code",
   "execution_count": 24,
   "metadata": {},
   "outputs": [],
   "source": [
    "class Config(dict):\n",
    "    def __init__(self):\n",
    "        # these parameters are shared in some way by multiple components;\n",
    "        # we control them centrally here\n",
    "        self.VOCAB_SIZE = 15000\n",
    "        self.UTTERANCE_LENGTH = 100\n",
    "        \n",
    "        # the system's configuration is divided into four parts, each a dict:\n",
    "        # one for each component\n",
    "        self['dialogue-corpus-config'] = self.init_dialogue_corpus_config()\n",
    "        self['utterance-encoder-config'] = self.init_utterance_encoder_config()\n",
    "        self['context-encoder-config'] = self.init_context_encoder_config()\n",
    "        self['utterance-decoder-config'] = self.init_utterance_decoder_config()\n",
    "        \n",
    "    def init_dialogue_corpus_config(self):\n",
    "        config = dict()\n",
    "        \n",
    "        config['vocab-size'] = self.VOCAB_SIZE\n",
    "        config['utterance-length'] = self.UTTERANCE_LENGTH\n",
    "        \n",
    "        return config\n",
    "        \n",
    "    def init_utterance_encoder_config(self):\n",
    "        config = dict()\n",
    "        \n",
    "        config['embedding-dim'] = 512\n",
    "        config['depth'] = 10\n",
    "        \n",
    "        return config\n",
    "        \n",
    "    def init_context_encoder_config(self):\n",
    "        config = dict()\n",
    "        \n",
    "        config['width'] = 10\n",
    "        config['depth'] = 10\n",
    "        \n",
    "        return config\n",
    "    \n",
    "    def init_utterance_decoder_config(self):\n",
    "        config = dict()\n",
    "        \n",
    "        config['embedding-dim'] = 512\n",
    "        config['depth'] = 10\n",
    "        \n",
    "        return config\n",
    "        "
   ]
  }
 ],
 "metadata": {
  "kernelspec": {
   "display_name": "Python 3",
   "language": "python",
   "name": "python3"
  },
  "language_info": {
   "codemirror_mode": {
    "name": "ipython",
    "version": 3
   },
   "file_extension": ".py",
   "mimetype": "text/x-python",
   "name": "python",
   "nbconvert_exporter": "python",
   "pygments_lexer": "ipython3",
   "version": "3.6.2"
  }
 },
 "nbformat": 4,
 "nbformat_minor": 2
}
