{
 "cells": [
  {
   "cell_type": "code",
   "execution_count": 53,
   "metadata": {},
   "outputs": [],
   "source": [
    "from config import Config\n",
    "\n",
    "from keras.models import Model\n",
    "from keras.layers import Input\n",
    "from keras.layers import Embedding\n",
    "from keras.layers import GRU\n",
    "\n",
    "class UtteranceEncoder:\n",
    "    def __init__(self, config=Config(), logger=Logger()):\n",
    "        # import the configuration for an UtteranceEncoder\n",
    "        self.config = config[\"utterance-encoder-config\"]\n",
    "        \n",
    "        # initialize an empty model\n",
    "        self.model = Sequential()\n",
    "        \n",
    "    def create_model(self):\n",
    "        # create the embedding layer\n",
    "        # nb: the mask_zero option causes 0's in the input data to be treated\n",
    "        #     as a privileged value indicating \"no data\" -- this is to support\n",
    "        #     variable length utterances\n",
    "        # nb: because we're allowing masks, recurrent layers down the line must\n",
    "        #     be approrpiately configured to use them as well\n",
    "        \n",
    "        encoder_input = Input(shape=(None,))\n",
    "        encoder_embedding = Embedding(self.config['vocab-size'],\n",
    "                                      self.config['embedding-dim'],\n",
    "                                      input_length = self.config['utterance-len'],\n",
    "                                      mask_zero = True)(encoder_input)\n",
    "        \n",
    "        # create the recurrent layers, one by one\n",
    "        # nb: the return_state option causes the network to output\n",
    "        encoder_gru = encoder_embedding\n",
    "        for i in range(self.config['depth'] - 1):\n",
    "            encoder_gru = GRU(self.config['rnn-dim'], return_sequences=True)(encoder_gru)\n",
    "        \n",
    "        # create the final recurrent layer\n",
    "        encoder_outputs, encoder_hidden_state = GRU(self.config['rnn-dim'], return_state=True)(encoder_gru)\n",
    "        \n",
    "        # add all the layers to our model\n",
    "        self.model = Model(encoder_input, encoder_hidden_state)\n",
    "        \n",
    "        if(self.config['logging-level'] == 'high'):\n",
    "            print(\"_________________________________________________________________\")\n",
    "            print(\"Constructed Encoder.\\nSummary follows:\\n\\n\")\n",
    "            self.model.summary()\n",
    "        \n",
    "    def set_embeddings(self):\n",
    "        return\n",
    "    \n",
    "    def fit(self):\n",
    "        return\n",
    "    \n",
    "    def predict(self):\n",
    "        return"
   ]
  },
  {
   "cell_type": "code",
   "execution_count": 54,
   "metadata": {},
   "outputs": [],
   "source": [
    "encoder = UtteranceEncoder()"
   ]
  },
  {
   "cell_type": "code",
   "execution_count": 55,
   "metadata": {},
   "outputs": [
    {
     "name": "stdout",
     "output_type": "stream",
     "text": [
      "_________________________________________________________________\n",
      "Constructed Encoder.\n",
      "Summary follows:\n",
      "\n",
      "\n",
      "_________________________________________________________________\n",
      "Layer (type)                 Output Shape              Param #   \n",
      "=================================================================\n",
      "input_11 (InputLayer)        (None, None)              0         \n",
      "_________________________________________________________________\n",
      "embedding_14 (Embedding)     (None, 100, 512)          7680000   \n",
      "_________________________________________________________________\n",
      "gru_53 (GRU)                 (None, 100, 512)          1574400   \n",
      "_________________________________________________________________\n",
      "gru_54 (GRU)                 (None, 100, 512)          1574400   \n",
      "_________________________________________________________________\n",
      "gru_55 (GRU)                 (None, 100, 512)          1574400   \n",
      "_________________________________________________________________\n",
      "gru_56 (GRU)                 (None, 100, 512)          1574400   \n",
      "_________________________________________________________________\n",
      "gru_57 (GRU)                 (None, 100, 512)          1574400   \n",
      "_________________________________________________________________\n",
      "gru_58 (GRU)                 (None, 100, 512)          1574400   \n",
      "_________________________________________________________________\n",
      "gru_59 (GRU)                 (None, 100, 512)          1574400   \n",
      "_________________________________________________________________\n",
      "gru_60 (GRU)                 (None, 100, 512)          1574400   \n",
      "_________________________________________________________________\n",
      "gru_61 (GRU)                 (None, 100, 512)          1574400   \n",
      "_________________________________________________________________\n",
      "gru_62 (GRU)                 [(None, 512), (None, 512) 1574400   \n",
      "=================================================================\n",
      "Total params: 23,424,000\n",
      "Trainable params: 23,424,000\n",
      "Non-trainable params: 0\n",
      "_________________________________________________________________\n",
      "None\n"
     ]
    }
   ],
   "source": [
    "encoder.create_model()"
   ]
  },
  {
   "cell_type": "code",
   "execution_count": null,
   "metadata": {
    "collapsed": true
   },
   "outputs": [],
   "source": []
  }
 ],
 "metadata": {
  "kernelspec": {
   "display_name": "Python 3",
   "language": "python",
   "name": "python3"
  },
  "language_info": {
   "codemirror_mode": {
    "name": "ipython",
    "version": 3
   },
   "file_extension": ".py",
   "mimetype": "text/x-python",
   "name": "python",
   "nbconvert_exporter": "python",
   "pygments_lexer": "ipython3",
   "version": "3.6.2"
  }
 },
 "nbformat": 4,
 "nbformat_minor": 2
}
