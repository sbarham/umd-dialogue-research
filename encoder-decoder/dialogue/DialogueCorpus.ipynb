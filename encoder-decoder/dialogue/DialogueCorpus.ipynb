{
 "cells": [
  {
   "cell_type": "code",
   "execution_count": 4,
   "metadata": {},
   "outputs": [],
   "source": [
    "# import keras.\n",
    "from config import Config\n",
    "\n",
    "class DialogueCorpus:\n",
    "    def __init__(corpus, config=Config()):\n",
    "        # read in the configuration for DialogueCorpus\n",
    "        self.config = config['dialogue-corpus-config']\n",
    "        \n",
    "        self.corpus = corpus\n",
    "        \n",
    "    def import_word_embeddings(source='glove'):\n",
    "        \"\"\"\n",
    "        Download and or prepare a pre-computed set of word embeddings, and\n",
    "        place them in a 2D tensor shaped so as to fit in the Embedding layers\n",
    "        of our UtteranceEncoder.\n",
    "        \n",
    "        source : str -- designates the word embedding set to use; can be one of:\n",
    "            * glove :    for GloVe (Global Vectors for Word Representation), developed\n",
    "                         at Stanford in 2014\n",
    "            * word2vec : developed by Tomas Mikolov at Google in 2013\n",
    "        \"\"\"\n",
    "        \n",
    "        "
   ]
  },
  {
   "cell_type": "code",
   "execution_count": null,
   "metadata": {
    "collapsed": true
   },
   "outputs": [],
   "source": []
  }
 ],
 "metadata": {
  "kernelspec": {
   "display_name": "Python 3",
   "language": "python",
   "name": "python3"
  },
  "language_info": {
   "codemirror_mode": {
    "name": "ipython",
    "version": 3
   },
   "file_extension": ".py",
   "mimetype": "text/x-python",
   "name": "python",
   "nbconvert_exporter": "python",
   "pygments_lexer": "ipython3",
   "version": "3.6.2"
  }
 },
 "nbformat": 4,
 "nbformat_minor": 2
}
