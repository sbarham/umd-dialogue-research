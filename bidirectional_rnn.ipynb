{
 "cells": [
  {
   "cell_type": "code",
   "execution_count": null,
   "metadata": {
    "collapsed": true
   },
   "outputs": [],
   "source": [
    "\"\"\"\n",
    "The bi-directional RNN that will form the basis of all our future dialogue\n",
    "models.\n",
    "\n",
    "The goal is to create a bi-directional encoder-decoder that can be either used independently\n",
    "for next-response generation, or integrated into a hierarchical (or more complicated)\n",
    "model.\n",
    "\n",
    "To that end, the BidirectionalRNN class should should suppor the same interface as our\n",
    "other dialogue models: it should take a Config() object, it should take a DialogueCorpus()\n",
    "object, and it should support the same fit() and predict() methods that (along with SciPy\n",
    "classifiers) all our models support.\n",
    "\"\"\"\n",
    "\n",
    "from config import Config\n",
    "from dialogue_corpus import DialogueCorpus\n",
    "\n",
    "class BidirectionalRNN:\n",
    "    def __init__(self, config=Config(), corpus=None):\n",
    "        if corpus is None:\n",
    "            corpus = DialogueCorpus(config['dialogue-corpus'])\n",
    "        "
   ]
  }
 ],
 "metadata": {
  "kernelspec": {
   "display_name": "Python 3",
   "language": "python",
   "name": "python3"
  },
  "language_info": {
   "codemirror_mode": {
    "name": "ipython",
    "version": 3
   },
   "file_extension": ".py",
   "mimetype": "text/x-python",
   "name": "python",
   "nbconvert_exporter": "python",
   "pygments_lexer": "ipython3",
   "version": "3.6.3"
  }
 },
 "nbformat": 4,
 "nbformat_minor": 2
}
